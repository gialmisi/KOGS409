{
 "cells": [
  {
   "cell_type": "markdown",
   "id": "15e19a24-099e-4a0a-83ef-122b11dab193",
   "metadata": {},
   "source": [
    "# Harjoitus 1\n",
    "## Tehtävä 1\n",
    "\n",
    "Tehdään datas pandas-taulukko. Ensin määritellään itse data, jonka jälkeen nimetään sarakkeet. Näistä luodaan lopuksi haluttu pandas-taulukko."
   ]
  },
  {
   "cell_type": "code",
   "execution_count": 6,
   "id": "d7af91a1-6c1b-42a3-8c6d-d2da9c951fe7",
   "metadata": {},
   "outputs": [
    {
     "data": {
      "text/html": [
       "<div>\n",
       "<style scoped>\n",
       "    .dataframe tbody tr th:only-of-type {\n",
       "        vertical-align: middle;\n",
       "    }\n",
       "\n",
       "    .dataframe tbody tr th {\n",
       "        vertical-align: top;\n",
       "    }\n",
       "\n",
       "    .dataframe thead th {\n",
       "        text-align: right;\n",
       "    }\n",
       "</style>\n",
       "<table border=\"1\" class=\"dataframe\">\n",
       "  <thead>\n",
       "    <tr style=\"text-align: right;\">\n",
       "      <th></th>\n",
       "      <th>qwerty</th>\n",
       "      <th>horizontal</th>\n",
       "      <th>diagonal</th>\n",
       "      <th>random</th>\n",
       "    </tr>\n",
       "  </thead>\n",
       "  <tbody>\n",
       "    <tr>\n",
       "      <th>0</th>\n",
       "      <td>505</td>\n",
       "      <td>292</td>\n",
       "      <td>302</td>\n",
       "      <td>362</td>\n",
       "    </tr>\n",
       "    <tr>\n",
       "      <th>1</th>\n",
       "      <td>815</td>\n",
       "      <td>395</td>\n",
       "      <td>367</td>\n",
       "      <td>346</td>\n",
       "    </tr>\n",
       "    <tr>\n",
       "      <th>2</th>\n",
       "      <td>295</td>\n",
       "      <td>384</td>\n",
       "      <td>340</td>\n",
       "      <td>313</td>\n",
       "    </tr>\n",
       "    <tr>\n",
       "      <th>3</th>\n",
       "      <td>605</td>\n",
       "      <td>411</td>\n",
       "      <td>453</td>\n",
       "      <td>323</td>\n",
       "    </tr>\n",
       "    <tr>\n",
       "      <th>4</th>\n",
       "      <td>405</td>\n",
       "      <td>331</td>\n",
       "      <td>354</td>\n",
       "      <td>292</td>\n",
       "    </tr>\n",
       "    <tr>\n",
       "      <th>5</th>\n",
       "      <td>740</td>\n",
       "      <td>412</td>\n",
       "      <td>416</td>\n",
       "      <td>364</td>\n",
       "    </tr>\n",
       "    <tr>\n",
       "      <th>6</th>\n",
       "      <td>705</td>\n",
       "      <td>330</td>\n",
       "      <td>330</td>\n",
       "      <td>364</td>\n",
       "    </tr>\n",
       "    <tr>\n",
       "      <th>7</th>\n",
       "      <td>630</td>\n",
       "      <td>426</td>\n",
       "      <td>432</td>\n",
       "      <td>329</td>\n",
       "    </tr>\n",
       "    <tr>\n",
       "      <th>8</th>\n",
       "      <td>870</td>\n",
       "      <td>400</td>\n",
       "      <td>349</td>\n",
       "      <td>374</td>\n",
       "    </tr>\n",
       "    <tr>\n",
       "      <th>9</th>\n",
       "      <td>740</td>\n",
       "      <td>458</td>\n",
       "      <td>524</td>\n",
       "      <td>457</td>\n",
       "    </tr>\n",
       "    <tr>\n",
       "      <th>10</th>\n",
       "      <td>700</td>\n",
       "      <td>351</td>\n",
       "      <td>336</td>\n",
       "      <td>306</td>\n",
       "    </tr>\n",
       "    <tr>\n",
       "      <th>11</th>\n",
       "      <td>770</td>\n",
       "      <td>462</td>\n",
       "      <td>474</td>\n",
       "      <td>415</td>\n",
       "    </tr>\n",
       "  </tbody>\n",
       "</table>\n",
       "</div>"
      ],
      "text/plain": [
       "    qwerty  horizontal  diagonal  random\n",
       "0      505         292       302     362\n",
       "1      815         395       367     346\n",
       "2      295         384       340     313\n",
       "3      605         411       453     323\n",
       "4      405         331       354     292\n",
       "5      740         412       416     364\n",
       "6      705         330       330     364\n",
       "7      630         426       432     329\n",
       "8      870         400       349     374\n",
       "9      740         458       524     457\n",
       "10     700         351       336     306\n",
       "11     770         462       474     415"
      ]
     },
     "execution_count": 6,
     "metadata": {},
     "output_type": "execute_result"
    }
   ],
   "source": [
    "body = [\n",
    "    [505, 292, 302, 362],\n",
    "    [815, 395, 367, 346],\n",
    "    [295, 384, 340, 313],\n",
    "    [605, 411, 453, 323],\n",
    "    [405, 331, 354, 292],\n",
    "    [740, 412, 416, 364],\n",
    "    [705, 330, 330, 364],\n",
    "    [630, 426, 432, 329],\n",
    "    [870, 400, 349, 374],\n",
    "    [740, 458, 524, 457],\n",
    "    [700, 351, 336, 306],\n",
    "    [770, 462, 474, 415],\n",
    "]\n",
    "\n",
    "cols = [\"qwerty\", \"horizontal\", \"diagonal\", \"random\"]\n",
    "\n",
    "import pandas as pd\n",
    "\n",
    "df = pd.DataFrame(data=body, columns=cols)\n",
    "df"
   ]
  },
  {
   "cell_type": "markdown",
   "id": "31569b33-5082-4c15-a608-4eb542c6d2b3",
   "metadata": {},
   "source": [
    "Datassa on nyt 12 riviä ja neljä pyydettyä saraketta. Datan syöttämisen jälkeen se vielä tarkistettiin vertaamalla sitä alkuperäiseen materiaaliin. Tallennetaan datasetti vielä lopuksi."
   ]
  },
  {
   "cell_type": "code",
   "execution_count": 7,
   "id": "f7ebd8a4-13aa-4b30-9844-728f77778fe7",
   "metadata": {},
   "outputs": [],
   "source": [
    "## kommentoitu, koska vältetään turhaan tallentamasta useampaan kertaan\n",
    "# df.to_csv(\"qwerty_data.csv\")"
   ]
  },
  {
   "cell_type": "markdown",
   "id": "6f0286ce-2b77-4b12-a84d-bef1111118df",
   "metadata": {},
   "source": [
    "## Tehtävä 2"
   ]
  },
  {
   "cell_type": "markdown",
   "id": "53ff8759-a85a-4acf-aa5c-f5f99632c960",
   "metadata": {},
   "source": [
    "Koska data on tallennettuna SPSS:n omaan formaattiin, joudumme käyttämään erillistä kirjastoa (`pyreadstat`) datan lukemiseen. Luetaan data pandas taulukkoon."
   ]
  },
  {
   "cell_type": "code",
   "execution_count": 36,
   "id": "2d5234e1-46ad-499a-a992-ff44d4f2606a",
   "metadata": {},
   "outputs": [
    {
     "name": "stdout",
     "output_type": "stream",
     "text": [
      "Subject id\n",
      "Age (years)\n",
      "Gender\n",
      "Group\n",
      "Brand experience Amazon\n",
      "Brand experience Jasmine\n",
      "Brand experience Apple\n",
      "Brand experience Boostep\n",
      "Brand experience Ikea\n",
      "Task time Amazon (s)\n",
      "Task time Jasmine (s)\n",
      "Task time Apple (s)\n",
      "Task time Boostep (s)\n",
      "Task time Ikea (s)\n",
      "Visual appeal Amazon\n",
      "Visual appeal Jasmine\n",
      "Visual appeal Apple\n",
      "Visual appeal Boostep\n",
      "Visual appeal Ikea\n",
      "Feeling of control Amazon\n",
      "Feeling of control Jasmine\n",
      "Feeling of control Apple\n",
      "Feeling of control Boostep\n",
      "Feeling of control Ikea\n",
      "Feeling of frustration Amazon\n",
      "Feeling of frustration Jasmine\n",
      "Feeling of frustration Apple\n",
      "Feeling of frustration Boostep\n",
      "Feeling of frustration Ikea\n",
      "group = 2 (FILTER)\n"
     ]
    }
   ],
   "source": [
    "import pyreadstat\n",
    "\n",
    "df_brands, meta = pyreadstat.read_sav(\"brands.sav\")\n",
    "\n",
    "# muutetaan sarakkeiden nimet luettavammiksi käyttäen nimien sijaan sarakkeiden labelia. Tulostetaan sarakkeiden nimet.\n",
    "df_brands.columns = meta.column_labels\n",
    "for col in df_brands.columns:\n",
    "    print(col)"
   ]
  },
  {
   "cell_type": "markdown",
   "id": "16e320f9-e4c2-4af1-8afd-d26b33aae33f",
   "metadata": {},
   "source": [
    "### a) _Mitkä viisi verkkokauppaa esiintyvät kokeessa?_\n",
    "Yllä olevaa tulostetta tarkasteltaessa, kokeessa esiintyivät seuraavat viisi verkkokauppaa: Amazon, Jasmine, Apple, Boostep ja Ikea."
   ]
  },
  {
   "cell_type": "markdown",
   "id": "8164f54e-ad99-4052-9cdd-1703b642f9ed",
   "metadata": {},
   "source": [
    "### b) Kuinka monta koehenkilöä datasetissä on?\n",
    "Tässä kokeessa on kyse between-subjects -asetelmasta, jolloin on oletettavissa, että jokainen tarkasteltava muuttuja on listattu osallistujakohtaisesti omalle rivilleen, joten rivien lukumäärä voisi kertoa osallistujien lukumäärän. Tosin, on myös mahdollista, että syystä tai toisesta, tiettyjä osallistujia on tarkkailtu useampaan kertaan. Joten, on turvallisinta laskea uniikit osallistujien tunnisteet (Subject id)."
   ]
  },
  {
   "cell_type": "code",
   "execution_count": 47,
   "id": "149f695b-1a1f-4906-843e-d8e1c049d34a",
   "metadata": {},
   "outputs": [
    {
     "name": "stdout",
     "output_type": "stream",
     "text": [
      "Unique 'Subject id' entries after casting them to int: 40\n",
      "Rows in data: 40\n"
     ]
    }
   ],
   "source": [
    "# metodi 'nunique' laskee uniikit taulukon sarakkeen 'Subject id' alkiot. Tätä ennen, alkiot muutetaan kuitenkin\n",
    "# kokonaisluvuiksi, koska niiden vertaaminen liukulukuina, joina ne on luettuna pandas-taulukkoon, ei ole järkevää.\n",
    "# Tässä muuttaminen kokonaisluvuksi on turvallista, koska kaikki 'Subject id' alkiot ovat '.0'-päättyisiä, eli\n",
    "# metodi 'apply(int)' yksinkertaisesti vain pudottaa desimaalit.\n",
    "n_unique_subjects = df_brands[\"Subject id\"].apply(int).nunique()\n",
    "n_rows = df_brands.shape[0]\n",
    "print(f\"Unique 'Subject id' entries after casting them to int: {n_unique_subjects}\")\n",
    "print(f\"Rows in data: {n_rows}\")"
   ]
  },
  {
   "cell_type": "markdown",
   "id": "8d928b75-8ef1-4720-b481-ca87b382a6bf",
   "metadata": {},
   "source": [
    "Yllä olevasta tulosteesta huomataan, että __osallistujia (koehenkilöitä) oli kokeessa datan mukaan 40 kappaletta__. Tämä vastaa myös datassa olevien rivien lukumäärää."
   ]
  },
  {
   "cell_type": "markdown",
   "id": "f08f2ad0-40d2-4b2e-aa2a-57796de2d044",
   "metadata": {},
   "source": [
    "### c) Mikä on osallistujien iän a) keskiarvo, b) mediaani, c) keskihajonta ja d) alin ja ylin ikä?\n",
    "Koska kohdan b) perusteella, datassa ei ole huomioitu yhtäkään osallistujaa kahteen kertaan, voidaan laskea eri keskiarvot suoraan sarakkeiden datasta, eli ei ole huolta että esimerkiksi saman osallistujan ikä huomioitaisiin useampaan kertaan eri keskiarvoja laskettaessa."
   ]
  },
  {
   "cell_type": "code",
   "execution_count": 59,
   "id": "d7848999-f969-4692-af70-68d405afea53",
   "metadata": {},
   "outputs": [
    {
     "name": "stdout",
     "output_type": "stream",
     "text": [
      "Age mean:\t26.4\n",
      "Age median:\t22.5\n",
      "Age std:\t8.329127143606284\n",
      "Age minimum:\t19.0\n",
      "Age maximum:\t56.0\n"
     ]
    }
   ],
   "source": [
    "age = df_brands[\"Age (years)\"]\n",
    "age_mean = age.mean()\n",
    "age_median = age.median()\n",
    "age_std = age.std()  # standard deviation\n",
    "age_min = age.min()\n",
    "age_max = age.max()\n",
    "\n",
    "print(f\"Age mean:\\t{age_mean}\\nAge median:\\t{age_median}\\nAge std:\\t{age_std}\\nAge minimum:\\t{age_min}\\nAge maximum:\\t{age_max}\")"
   ]
  },
  {
   "cell_type": "markdown",
   "id": "ccd671ef-8cad-42f0-a741-8c2d8b1ce12e",
   "metadata": {},
   "source": [
    "Yllä olevan tulosteen perusteella, __osallistujien iän keskiarvo on 26,4 vuotta, mediaani 22,5 vuotta, keskihajonta on 8.33 vuotta, minimi arvo on 19 vuotta ja maksimi aro on 56 vuotta__. "
   ]
  },
  {
   "cell_type": "markdown",
   "id": "04a55ae7-3831-49e5-93a4-cd53c6d923e2",
   "metadata": {},
   "source": [
    "## Tehtävä 3\n",
    "### a) Visualisoi dataa pylväsdiagrammin avulla.\n",
    "Ymmärsin tehtävänannon perusteella, että riittää piirtä kuvaajat, joissa pyydetyt suureet esiintyvät, eli ryhmä, ika ja sukupuoli. Piirretään aluksi ryhmitetty pylväsdiagrammi, jossa pylväät on ryhmitetty osallistujien ryhmän mukaan. Iälle käytetään keskiarvoa ja sukupuolelle (1 tai 2) käytetään mediaania. Virheenä käytetään keskiarvon keskivirhettä molemmille."
   ]
  },
  {
   "cell_type": "code",
   "execution_count": 164,
   "id": "8dac3827-4897-4513-a000-422b81d55057",
   "metadata": {},
   "outputs": [
    {
     "data": {
      "text/plain": [
       "<AxesSubplot: xlabel='Group', ylabel='Mean (age) / median (gender)'>"
      ]
     },
     "execution_count": 164,
     "metadata": {},
     "output_type": "execute_result"
    },
    {
     "data": {
      "image/png": "[encoded data removed]",
      "text/plain": [
       "<Figure size 640x480 with 1 Axes>"
      ]
     },
     "metadata": {},
     "output_type": "display_data"
    }
   ],
   "source": [
    "import matplotlib.pyplot as plt\n",
    "\n",
    "df_brands_view = df_brands.loc[:, [\"Group\", \"Age (years)\", \"Gender\"]]\n",
    "\n",
    "df_brands_view_pivot = df_brands_view.pivot_table(index=\"Group\", values=[\"Age (years)\", \"Gender\"], aggfunc={\"Gender\": \"median\", \"Age (years)\": \"mean\"})  # muotoillaan taulukko uusiksi\n",
    "df_brands_view_pivot[\"Age (SEM)\"] = df_brands_view.groupby([\"Group\"])[\"Age (years)\"].sem()  # keskiarvon keskivirhe\n",
    "df_brands_view_pivot[\"Gender (SEM)\"] = df_brands_view.groupby([\"Group\"])[\"Gender\"].sem()\n",
    "\n",
    "df_brands_view_pivot.plot(y=[\"Age (years)\", \"Gender\"], kind=\"bar\", yerr={\"Age (years)\": df_brands_view_pivot[\"Age (SEM)\"], \"Gender\": df_brands_view_pivot[\"Gender (SEM)\"]}, rot=0, ylabel=\"Mean (age) / median (gender)\")"
   ]
  },
  {
   "cell_type": "markdown",
   "id": "819cf3f1-d58e-4e27-b683-0c4f0cf2e47f",
   "metadata": {},
   "source": [
    "Yllä olevasta pylväsdiagrammista nähdään, että kahden eri ryhmän iän keskiarvoissa on havaittavissa pientä poikkeamaa (suurempi ryhmässä 2), mutta virhe huomioiden, tämä ero ei ole todennäköisesti kovin merkittävä (keskiarvot ovat vähintään keskivirheiden päässä toisistaan). Kummassakin ryhmässä oli tasaisesti kumpaakin sukupuolta, jolloin keskivirhekkin on hyvin pieni.\n",
    "\n",
    "### b) Visualisoi dataa vielä boxplot-kuvion avulla\n",
    "Piirretään seuraavaksi boxplot."
   ]
  },
  {
   "cell_type": "code",
   "execution_count": 183,
   "id": "a6637976-a9e8-4cc7-b3d3-95bd058786f9",
   "metadata": {},
   "outputs": [
    {
     "data": {
      "text/plain": [
       "Group\n",
       "1.0    AxesSubplot(0.125,0.11;0.775x0.77)\n",
       "2.0    AxesSubplot(0.125,0.11;0.775x0.77)\n",
       "dtype: object"
      ]
     },
     "execution_count": 183,
     "metadata": {},
     "output_type": "execute_result"
    },
    {
     "data": {
      "image/png": "[encoded data removed]",
      "text/plain": [
       "<Figure size 640x480 with 1 Axes>"
      ]
     },
     "metadata": {},
     "output_type": "display_data"
    },
    {
     "data": {
      "image/png": "[encoded data removed]",
      "text/plain": [
       "<Figure size 640x480 with 1 Axes>"
      ]
     },
     "metadata": {},
     "output_type": "display_data"
    }
   ],
   "source": [
    "df_brands_view.groupby(\"Group\").plot(y=[\"Age (years)\", \"Gender\"], kind=\"box\")"
   ]
  },
  {
   "cell_type": "markdown",
   "id": "7c218ddc-0fab-4638-9a6f-0bc0fa0d78cb",
   "metadata": {},
   "source": [
    "Boxploteista nähdään, että kummassakin ryhmässä osallistujien sukupuoli oli jakautunut tasaisesti. Iän suhteen, ryhmässä 1 (ylempi kuva), hajonta on pienempää, kuin ryhmässä 2 (alempi kuva). Tosin, ryhmässä 1 on enemmän poikkeavia havaintoja (jos oletetaan normaalijakauma), kuin ryhmässä 2."
   ]
  },
  {
   "cell_type": "markdown",
   "id": "685ededa-1512-4d02-ba82-49652a4695dc",
   "metadata": {},
   "source": [
    "### c) Kumpaa kuviota on mielestäsi helpompi tulkita?\n",
    "\n",
    "Minusta boxplot on helpompi tulkita, ja se myös kertoo jotakin poikkeavista havainnoista, jotka ovat yleensä niitä mielenkiintoisempia. Keskiarvo ja sen luottamusväli ovat myös paljon visuaalisempia boxplotissa, kuin pylväsdiagrammeissa."
   ]
  },
  {
   "cell_type": "markdown",
   "id": "d22c5a88-41f0-4fff-9401-76fe4d09894f",
   "metadata": {},
   "source": [
    "## Tehtävä 4\n",
    "### a) Kuinka monta vastaajaa kyselyssä on?"
   ]
  },
  {
   "cell_type": "code",
   "execution_count": 198,
   "id": "2d549e9b-b861-406e-a6da-046383ec15d5",
   "metadata": {},
   "outputs": [
    {
     "data": {
      "text/plain": [
       "2209"
      ]
     },
     "execution_count": 198,
     "metadata": {},
     "output_type": "execute_result"
    }
   ],
   "source": [
    "df_baro, meta_baro = pyreadstat.read_sav(\"tiede_baro_2019.sav\")\n",
    "\n",
    "df_baro.shape[0]"
   ]
  },
  {
   "cell_type": "markdown",
   "id": "31b4af0f-e362-421e-b76e-c791987d9503",
   "metadata": {},
   "source": [
    "Jos oletetaan jokaisen vastaajan olevan omalla rivillään, ja että samaa vastaajaa ei esiinny datassa kahteen kertaan, niin silloin __vataajia on ollut 2209 kappaletta__."
   ]
  },
  {
   "cell_type": "markdown",
   "id": "e63dfde1-d0d0-43cf-aa49-d3d92ba016da",
   "metadata": {},
   "source": [
    "### b) Miten vastaajat jakautuvat sukupuolien mukaan?"
   ]
  },
  {
   "cell_type": "code",
   "execution_count": 221,
   "id": "384f914b-fe3c-4233-9730-501e249a8cb2",
   "metadata": {},
   "outputs": [
    {
     "name": "stdout",
     "output_type": "stream",
     "text": [
      "Gender mean: 1.4931381518755718 (0.5000673054370872)\n"
     ]
    }
   ],
   "source": [
    "gender_mean = df_baro[\"sukupuoli\"].mean()\n",
    "gender_std = df_baro[\"sukupuoli\"].std()\n",
    "\n",
    "print(f\"Gender mean: {gender_mean} ({gender_std})\")"
   ]
  },
  {
   "cell_type": "markdown",
   "id": "1d50345a-5985-41ab-ae0d-dd64524abe43",
   "metadata": {},
   "source": [
    "Sukupuolen keskiarvo on 1,49 ja keskihajonta 0,5. Koska mahdolliset arvot ovat 1 tai 2, on keskihaonta järkevä ja keskiarvo kertoo, että __vastaajia on ollut hyvin tasaisesti kumpaakin sukupuolta__."
   ]
  },
  {
   "cell_type": "markdown",
   "id": "f01e0286-f43c-42e1-a5d9-1a3fedb87c46",
   "metadata": {},
   "source": [
    "### c) Vastaajien ikien jakautuminen"
   ]
  },
  {
   "cell_type": "code",
   "execution_count": 237,
   "id": "149bc687-5d28-4ac2-b1ca-a6868cfbf289",
   "metadata": {},
   "outputs": [
    {
     "name": "stderr",
     "output_type": "stream",
     "text": [
      "/tmp/ipykernel_404064/920128696.py:5: FutureWarning: In a future version of pandas all arguments of DataFrame.pivot will be keyword-only.\n",
      "  df_baro_view_pivot = df_baro_view.pivot(\"ikä\", columns=[\"sukupuoli\"])\n"
     ]
    },
    {
     "ename": "ValueError",
     "evalue": "Index contains duplicate entries, cannot reshape",
     "output_type": "error",
     "traceback": [
      "\u001b[0;31m---------------------------------------------------------------------------\u001b[0m",
      "\u001b[0;31mValueError\u001b[0m                                Traceback (most recent call last)",
      "Cell \u001b[0;32mIn[237], line 5\u001b[0m\n\u001b[1;32m      2\u001b[0m age_labels \u001b[38;5;241m=\u001b[39m meta_baro\u001b[38;5;241m.\u001b[39mvalue_labels[\u001b[38;5;124m\"\u001b[39m\u001b[38;5;124mlabels1\u001b[39m\u001b[38;5;124m\"\u001b[39m]\n\u001b[1;32m      4\u001b[0m \u001b[38;5;66;03m# df_brands_view.pivot_table(index=\"Group\", values=[\"Age (years)\", \"Gender\"], aggfunc={\"Gender\": \"median\", \"Age (years)\": \"mean\"})\u001b[39;00m\n\u001b[0;32m----> 5\u001b[0m df_baro_view_pivot \u001b[38;5;241m=\u001b[39m \u001b[43mdf_baro_view\u001b[49m\u001b[38;5;241;43m.\u001b[39;49m\u001b[43mpivot\u001b[49m\u001b[43m(\u001b[49m\u001b[38;5;124;43m\"\u001b[39;49m\u001b[38;5;124;43mikä\u001b[39;49m\u001b[38;5;124;43m\"\u001b[39;49m\u001b[43m,\u001b[49m\u001b[43m \u001b[49m\u001b[43mcolumns\u001b[49m\u001b[38;5;241;43m=\u001b[39;49m\u001b[43m[\u001b[49m\u001b[38;5;124;43m\"\u001b[39;49m\u001b[38;5;124;43msukupuoli\u001b[39;49m\u001b[38;5;124;43m\"\u001b[39;49m\u001b[43m]\u001b[49m\u001b[43m)\u001b[49m\n\u001b[1;32m      6\u001b[0m df_baro_view_pivot\n",
      "File \u001b[0;32m~/.cache/pypoetry/virtualenvs/kogs403-5n9550wa-py3.10/lib/python3.10/site-packages/pandas/util/_decorators.py:331\u001b[0m, in \u001b[0;36mdeprecate_nonkeyword_arguments.<locals>.decorate.<locals>.wrapper\u001b[0;34m(*args, **kwargs)\u001b[0m\n\u001b[1;32m    325\u001b[0m \u001b[38;5;28;01mif\u001b[39;00m \u001b[38;5;28mlen\u001b[39m(args) \u001b[38;5;241m>\u001b[39m num_allow_args:\n\u001b[1;32m    326\u001b[0m     warnings\u001b[38;5;241m.\u001b[39mwarn(\n\u001b[1;32m    327\u001b[0m         msg\u001b[38;5;241m.\u001b[39mformat(arguments\u001b[38;5;241m=\u001b[39m_format_argument_list(allow_args)),\n\u001b[1;32m    328\u001b[0m         \u001b[38;5;167;01mFutureWarning\u001b[39;00m,\n\u001b[1;32m    329\u001b[0m         stacklevel\u001b[38;5;241m=\u001b[39mfind_stack_level(),\n\u001b[1;32m    330\u001b[0m     )\n\u001b[0;32m--> 331\u001b[0m \u001b[38;5;28;01mreturn\u001b[39;00m \u001b[43mfunc\u001b[49m\u001b[43m(\u001b[49m\u001b[38;5;241;43m*\u001b[39;49m\u001b[43margs\u001b[49m\u001b[43m,\u001b[49m\u001b[43m \u001b[49m\u001b[38;5;241;43m*\u001b[39;49m\u001b[38;5;241;43m*\u001b[39;49m\u001b[43mkwargs\u001b[49m\u001b[43m)\u001b[49m\n",
      "File \u001b[0;32m~/.cache/pypoetry/virtualenvs/kogs403-5n9550wa-py3.10/lib/python3.10/site-packages/pandas/core/frame.py:8567\u001b[0m, in \u001b[0;36mDataFrame.pivot\u001b[0;34m(self, index, columns, values)\u001b[0m\n\u001b[1;32m   8561\u001b[0m \u001b[38;5;129m@Substitution\u001b[39m(\u001b[38;5;124m\"\u001b[39m\u001b[38;5;124m\"\u001b[39m)\n\u001b[1;32m   8562\u001b[0m \u001b[38;5;129m@Appender\u001b[39m(_shared_docs[\u001b[38;5;124m\"\u001b[39m\u001b[38;5;124mpivot\u001b[39m\u001b[38;5;124m\"\u001b[39m])\n\u001b[1;32m   8563\u001b[0m \u001b[38;5;129m@deprecate_nonkeyword_arguments\u001b[39m(version\u001b[38;5;241m=\u001b[39m\u001b[38;5;28;01mNone\u001b[39;00m, allowed_args\u001b[38;5;241m=\u001b[39m[\u001b[38;5;124m\"\u001b[39m\u001b[38;5;124mself\u001b[39m\u001b[38;5;124m\"\u001b[39m])\n\u001b[1;32m   8564\u001b[0m \u001b[38;5;28;01mdef\u001b[39;00m \u001b[38;5;21mpivot\u001b[39m(\u001b[38;5;28mself\u001b[39m, index\u001b[38;5;241m=\u001b[39m\u001b[38;5;28;01mNone\u001b[39;00m, columns\u001b[38;5;241m=\u001b[39m\u001b[38;5;28;01mNone\u001b[39;00m, values\u001b[38;5;241m=\u001b[39m\u001b[38;5;28;01mNone\u001b[39;00m) \u001b[38;5;241m-\u001b[39m\u001b[38;5;241m>\u001b[39m DataFrame:\n\u001b[1;32m   8565\u001b[0m     \u001b[38;5;28;01mfrom\u001b[39;00m \u001b[38;5;21;01mpandas\u001b[39;00m\u001b[38;5;21;01m.\u001b[39;00m\u001b[38;5;21;01mcore\u001b[39;00m\u001b[38;5;21;01m.\u001b[39;00m\u001b[38;5;21;01mreshape\u001b[39;00m\u001b[38;5;21;01m.\u001b[39;00m\u001b[38;5;21;01mpivot\u001b[39;00m \u001b[38;5;28;01mimport\u001b[39;00m pivot\n\u001b[0;32m-> 8567\u001b[0m     \u001b[38;5;28;01mreturn\u001b[39;00m \u001b[43mpivot\u001b[49m\u001b[43m(\u001b[49m\u001b[38;5;28;43mself\u001b[39;49m\u001b[43m,\u001b[49m\u001b[43m \u001b[49m\u001b[43mindex\u001b[49m\u001b[38;5;241;43m=\u001b[39;49m\u001b[43mindex\u001b[49m\u001b[43m,\u001b[49m\u001b[43m \u001b[49m\u001b[43mcolumns\u001b[49m\u001b[38;5;241;43m=\u001b[39;49m\u001b[43mcolumns\u001b[49m\u001b[43m,\u001b[49m\u001b[43m \u001b[49m\u001b[43mvalues\u001b[49m\u001b[38;5;241;43m=\u001b[39;49m\u001b[43mvalues\u001b[49m\u001b[43m)\u001b[49m\n",
      "File \u001b[0;32m~/.cache/pypoetry/virtualenvs/kogs403-5n9550wa-py3.10/lib/python3.10/site-packages/pandas/util/_decorators.py:331\u001b[0m, in \u001b[0;36mdeprecate_nonkeyword_arguments.<locals>.decorate.<locals>.wrapper\u001b[0;34m(*args, **kwargs)\u001b[0m\n\u001b[1;32m    325\u001b[0m \u001b[38;5;28;01mif\u001b[39;00m \u001b[38;5;28mlen\u001b[39m(args) \u001b[38;5;241m>\u001b[39m num_allow_args:\n\u001b[1;32m    326\u001b[0m     warnings\u001b[38;5;241m.\u001b[39mwarn(\n\u001b[1;32m    327\u001b[0m         msg\u001b[38;5;241m.\u001b[39mformat(arguments\u001b[38;5;241m=\u001b[39m_format_argument_list(allow_args)),\n\u001b[1;32m    328\u001b[0m         \u001b[38;5;167;01mFutureWarning\u001b[39;00m,\n\u001b[1;32m    329\u001b[0m         stacklevel\u001b[38;5;241m=\u001b[39mfind_stack_level(),\n\u001b[1;32m    330\u001b[0m     )\n\u001b[0;32m--> 331\u001b[0m \u001b[38;5;28;01mreturn\u001b[39;00m \u001b[43mfunc\u001b[49m\u001b[43m(\u001b[49m\u001b[38;5;241;43m*\u001b[39;49m\u001b[43margs\u001b[49m\u001b[43m,\u001b[49m\u001b[43m \u001b[49m\u001b[38;5;241;43m*\u001b[39;49m\u001b[38;5;241;43m*\u001b[39;49m\u001b[43mkwargs\u001b[49m\u001b[43m)\u001b[49m\n",
      "File \u001b[0;32m~/.cache/pypoetry/virtualenvs/kogs403-5n9550wa-py3.10/lib/python3.10/site-packages/pandas/core/reshape/pivot.py:540\u001b[0m, in \u001b[0;36mpivot\u001b[0;34m(data, index, columns, values)\u001b[0m\n\u001b[1;32m    536\u001b[0m         indexed \u001b[38;5;241m=\u001b[39m data\u001b[38;5;241m.\u001b[39m_constructor_sliced(data[values]\u001b[38;5;241m.\u001b[39m_values, index\u001b[38;5;241m=\u001b[39mmultiindex)\n\u001b[1;32m    537\u001b[0m \u001b[38;5;66;03m# error: Argument 1 to \"unstack\" of \"DataFrame\" has incompatible type \"Union\u001b[39;00m\n\u001b[1;32m    538\u001b[0m \u001b[38;5;66;03m# [List[Any], ExtensionArray, ndarray[Any, Any], Index, Series]\"; expected\u001b[39;00m\n\u001b[1;32m    539\u001b[0m \u001b[38;5;66;03m# \"Hashable\"\u001b[39;00m\n\u001b[0;32m--> 540\u001b[0m \u001b[38;5;28;01mreturn\u001b[39;00m \u001b[43mindexed\u001b[49m\u001b[38;5;241;43m.\u001b[39;49m\u001b[43munstack\u001b[49m\u001b[43m(\u001b[49m\u001b[43mcolumns_listlike\u001b[49m\u001b[43m)\u001b[49m\n",
      "File \u001b[0;32m~/.cache/pypoetry/virtualenvs/kogs403-5n9550wa-py3.10/lib/python3.10/site-packages/pandas/core/frame.py:9112\u001b[0m, in \u001b[0;36mDataFrame.unstack\u001b[0;34m(self, level, fill_value)\u001b[0m\n\u001b[1;32m   9050\u001b[0m \u001b[38;5;250m\u001b[39m\u001b[38;5;124;03m\"\"\"\u001b[39;00m\n\u001b[1;32m   9051\u001b[0m \u001b[38;5;124;03mPivot a level of the (necessarily hierarchical) index labels.\u001b[39;00m\n\u001b[1;32m   9052\u001b[0m \n\u001b[0;32m   (...)\u001b[0m\n\u001b[1;32m   9108\u001b[0m \u001b[38;5;124;03mdtype: float64\u001b[39;00m\n\u001b[1;32m   9109\u001b[0m \u001b[38;5;124;03m\"\"\"\u001b[39;00m\n\u001b[1;32m   9110\u001b[0m \u001b[38;5;28;01mfrom\u001b[39;00m \u001b[38;5;21;01mpandas\u001b[39;00m\u001b[38;5;21;01m.\u001b[39;00m\u001b[38;5;21;01mcore\u001b[39;00m\u001b[38;5;21;01m.\u001b[39;00m\u001b[38;5;21;01mreshape\u001b[39;00m\u001b[38;5;21;01m.\u001b[39;00m\u001b[38;5;21;01mreshape\u001b[39;00m \u001b[38;5;28;01mimport\u001b[39;00m unstack\n\u001b[0;32m-> 9112\u001b[0m result \u001b[38;5;241m=\u001b[39m \u001b[43munstack\u001b[49m\u001b[43m(\u001b[49m\u001b[38;5;28;43mself\u001b[39;49m\u001b[43m,\u001b[49m\u001b[43m \u001b[49m\u001b[43mlevel\u001b[49m\u001b[43m,\u001b[49m\u001b[43m \u001b[49m\u001b[43mfill_value\u001b[49m\u001b[43m)\u001b[49m\n\u001b[1;32m   9114\u001b[0m \u001b[38;5;28;01mreturn\u001b[39;00m result\u001b[38;5;241m.\u001b[39m__finalize__(\u001b[38;5;28mself\u001b[39m, method\u001b[38;5;241m=\u001b[39m\u001b[38;5;124m\"\u001b[39m\u001b[38;5;124munstack\u001b[39m\u001b[38;5;124m\"\u001b[39m)\n",
      "File \u001b[0;32m~/.cache/pypoetry/virtualenvs/kogs403-5n9550wa-py3.10/lib/python3.10/site-packages/pandas/core/reshape/reshape.py:476\u001b[0m, in \u001b[0;36munstack\u001b[0;34m(obj, level, fill_value)\u001b[0m\n\u001b[1;32m    474\u001b[0m \u001b[38;5;28;01mif\u001b[39;00m \u001b[38;5;28misinstance\u001b[39m(obj, DataFrame):\n\u001b[1;32m    475\u001b[0m     \u001b[38;5;28;01mif\u001b[39;00m \u001b[38;5;28misinstance\u001b[39m(obj\u001b[38;5;241m.\u001b[39mindex, MultiIndex):\n\u001b[0;32m--> 476\u001b[0m         \u001b[38;5;28;01mreturn\u001b[39;00m \u001b[43m_unstack_frame\u001b[49m\u001b[43m(\u001b[49m\u001b[43mobj\u001b[49m\u001b[43m,\u001b[49m\u001b[43m \u001b[49m\u001b[43mlevel\u001b[49m\u001b[43m,\u001b[49m\u001b[43m \u001b[49m\u001b[43mfill_value\u001b[49m\u001b[38;5;241;43m=\u001b[39;49m\u001b[43mfill_value\u001b[49m\u001b[43m)\u001b[49m\n\u001b[1;32m    477\u001b[0m     \u001b[38;5;28;01melse\u001b[39;00m:\n\u001b[1;32m    478\u001b[0m         \u001b[38;5;28;01mreturn\u001b[39;00m obj\u001b[38;5;241m.\u001b[39mT\u001b[38;5;241m.\u001b[39mstack(dropna\u001b[38;5;241m=\u001b[39m\u001b[38;5;28;01mFalse\u001b[39;00m)\n",
      "File \u001b[0;32m~/.cache/pypoetry/virtualenvs/kogs403-5n9550wa-py3.10/lib/python3.10/site-packages/pandas/core/reshape/reshape.py:499\u001b[0m, in \u001b[0;36m_unstack_frame\u001b[0;34m(obj, level, fill_value)\u001b[0m\n\u001b[1;32m    497\u001b[0m \u001b[38;5;28;01mdef\u001b[39;00m \u001b[38;5;21m_unstack_frame\u001b[39m(obj: DataFrame, level, fill_value\u001b[38;5;241m=\u001b[39m\u001b[38;5;28;01mNone\u001b[39;00m):\n\u001b[1;32m    498\u001b[0m     \u001b[38;5;28;01massert\u001b[39;00m \u001b[38;5;28misinstance\u001b[39m(obj\u001b[38;5;241m.\u001b[39mindex, MultiIndex)  \u001b[38;5;66;03m# checked by caller\u001b[39;00m\n\u001b[0;32m--> 499\u001b[0m     unstacker \u001b[38;5;241m=\u001b[39m \u001b[43m_Unstacker\u001b[49m\u001b[43m(\u001b[49m\u001b[43mobj\u001b[49m\u001b[38;5;241;43m.\u001b[39;49m\u001b[43mindex\u001b[49m\u001b[43m,\u001b[49m\u001b[43m \u001b[49m\u001b[43mlevel\u001b[49m\u001b[38;5;241;43m=\u001b[39;49m\u001b[43mlevel\u001b[49m\u001b[43m,\u001b[49m\u001b[43m \u001b[49m\u001b[43mconstructor\u001b[49m\u001b[38;5;241;43m=\u001b[39;49m\u001b[43mobj\u001b[49m\u001b[38;5;241;43m.\u001b[39;49m\u001b[43m_constructor\u001b[49m\u001b[43m)\u001b[49m\n\u001b[1;32m    501\u001b[0m     \u001b[38;5;28;01mif\u001b[39;00m \u001b[38;5;129;01mnot\u001b[39;00m obj\u001b[38;5;241m.\u001b[39m_can_fast_transpose:\n\u001b[1;32m    502\u001b[0m         mgr \u001b[38;5;241m=\u001b[39m obj\u001b[38;5;241m.\u001b[39m_mgr\u001b[38;5;241m.\u001b[39munstack(unstacker, fill_value\u001b[38;5;241m=\u001b[39mfill_value)\n",
      "File \u001b[0;32m~/.cache/pypoetry/virtualenvs/kogs403-5n9550wa-py3.10/lib/python3.10/site-packages/pandas/core/reshape/reshape.py:137\u001b[0m, in \u001b[0;36m_Unstacker.__init__\u001b[0;34m(self, index, level, constructor)\u001b[0m\n\u001b[1;32m    129\u001b[0m \u001b[38;5;28;01mif\u001b[39;00m num_cells \u001b[38;5;241m>\u001b[39m np\u001b[38;5;241m.\u001b[39miinfo(np\u001b[38;5;241m.\u001b[39mint32)\u001b[38;5;241m.\u001b[39mmax:\n\u001b[1;32m    130\u001b[0m     warnings\u001b[38;5;241m.\u001b[39mwarn(\n\u001b[1;32m    131\u001b[0m         \u001b[38;5;124mf\u001b[39m\u001b[38;5;124m\"\u001b[39m\u001b[38;5;124mThe following operation may generate \u001b[39m\u001b[38;5;132;01m{\u001b[39;00mnum_cells\u001b[38;5;132;01m}\u001b[39;00m\u001b[38;5;124m cells \u001b[39m\u001b[38;5;124m\"\u001b[39m\n\u001b[1;32m    132\u001b[0m         \u001b[38;5;124mf\u001b[39m\u001b[38;5;124m\"\u001b[39m\u001b[38;5;124min the resulting pandas object.\u001b[39m\u001b[38;5;124m\"\u001b[39m,\n\u001b[1;32m    133\u001b[0m         PerformanceWarning,\n\u001b[1;32m    134\u001b[0m         stacklevel\u001b[38;5;241m=\u001b[39mfind_stack_level(),\n\u001b[1;32m    135\u001b[0m     )\n\u001b[0;32m--> 137\u001b[0m \u001b[38;5;28;43mself\u001b[39;49m\u001b[38;5;241;43m.\u001b[39;49m\u001b[43m_make_selectors\u001b[49m\u001b[43m(\u001b[49m\u001b[43m)\u001b[49m\n",
      "File \u001b[0;32m~/.cache/pypoetry/virtualenvs/kogs403-5n9550wa-py3.10/lib/python3.10/site-packages/pandas/core/reshape/reshape.py:189\u001b[0m, in \u001b[0;36m_Unstacker._make_selectors\u001b[0;34m(self)\u001b[0m\n\u001b[1;32m    186\u001b[0m mask\u001b[38;5;241m.\u001b[39mput(selector, \u001b[38;5;28;01mTrue\u001b[39;00m)\n\u001b[1;32m    188\u001b[0m \u001b[38;5;28;01mif\u001b[39;00m mask\u001b[38;5;241m.\u001b[39msum() \u001b[38;5;241m<\u001b[39m \u001b[38;5;28mlen\u001b[39m(\u001b[38;5;28mself\u001b[39m\u001b[38;5;241m.\u001b[39mindex):\n\u001b[0;32m--> 189\u001b[0m     \u001b[38;5;28;01mraise\u001b[39;00m \u001b[38;5;167;01mValueError\u001b[39;00m(\u001b[38;5;124m\"\u001b[39m\u001b[38;5;124mIndex contains duplicate entries, cannot reshape\u001b[39m\u001b[38;5;124m\"\u001b[39m)\n\u001b[1;32m    191\u001b[0m \u001b[38;5;28mself\u001b[39m\u001b[38;5;241m.\u001b[39mgroup_index \u001b[38;5;241m=\u001b[39m comp_index\n\u001b[1;32m    192\u001b[0m \u001b[38;5;28mself\u001b[39m\u001b[38;5;241m.\u001b[39mmask \u001b[38;5;241m=\u001b[39m mask\n",
      "\u001b[0;31mValueError\u001b[0m: Index contains duplicate entries, cannot reshape"
     ]
    }
   ],
   "source": [
    "df_baro_view = df_baro.loc[:, [\"sukupuoli\", \"ikä\"]].dropna()\n",
    "age_labels = meta_baro.value_labels[\"labels1\"]\n",
    "\n",
    "# df_brands_view.pivot_table(index=\"Group\", values=[\"Age (years)\", \"Gender\"], aggfunc={\"Gender\": \"median\", \"Age (years)\": \"mean\"})\n",
    "df_baro_view_pivot = df_baro_view.pivot(\"ikä\", columns=[\"sukupuoli\"])\n",
    "df_baro_view_pivot"
   ]
  },
  {
   "cell_type": "code",
   "execution_count": null,
   "id": "ce2ce591-86d8-4c2c-9884-ede785e7351d",
   "metadata": {},
   "outputs": [],
   "source": []
  }
 ],
 "metadata": {
  "kernelspec": {
   "display_name": "kogs403",
   "language": "python",
   "name": "kogs403"
  },
  "language_info": {
   "codemirror_mode": {
    "name": "ipython",
    "version": 3
   },
   "file_extension": ".py",
   "mimetype": "text/x-python",
   "name": "python",
   "nbconvert_exporter": "python",
   "pygments_lexer": "ipython3",
   "version": "3.10.8"
  }
 },
 "nbformat": 4,
 "nbformat_minor": 5
}
